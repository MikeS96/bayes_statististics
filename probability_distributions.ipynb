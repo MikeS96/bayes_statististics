{
 "metadata": {
  "language_info": {
   "codemirror_mode": {
    "name": "ipython",
    "version": 3
   },
   "file_extension": ".py",
   "mimetype": "text/x-python",
   "name": "python",
   "nbconvert_exporter": "python",
   "pygments_lexer": "ipython3",
   "version": "3.8.5"
  },
  "orig_nbformat": 2,
  "kernelspec": {
   "name": "python3",
   "display_name": "Python 3.8.5 64-bit ('deep-torch': conda)",
   "metadata": {
    "interpreter": {
     "hash": "3d15034be94452dfdb82268453067f156f287861a5d7183b90dac40b99dc5ba4"
    }
   }
  }
 },
 "nbformat": 4,
 "nbformat_minor": 2,
 "cells": [
  {
   "cell_type": "code",
   "execution_count": null,
   "metadata": {},
   "outputs": [],
   "source": [
    "import numpy as np\n",
    "import matplotlib.pyplot as plt \n",
    "import pandas as pd "
   ]
  },
  {
   "source": [
    "### Cumulative Distribution Function\n",
    "\n",
    "The cumulative distribution function (CDF) exists for every distribution. We define it as $F(x) =P(X≤x)$ for random variableX\n",
    "\n",
    "### Quantile Function\n",
    "\n",
    "The CDF takes a value for a random variable and returns a probability. Suppose insteadthat we start with a number between 0 and 1, call itp, and we wish to find the value $x$ so that $P(X≤x) = p$. The value $x$ which satisfies this equation is called the $p$ quantile (or $100p$ percentile) of the distribution of $X$.\n",
    "\n",
    "### Useful python functions and commands\n",
    "\n",
    "pmf(k, p, loc=0) -> Probability mass function.\n",
    "\n",
    "logpmf(k, p, loc=0) -> Log of the probability mass function.\n",
    "\n",
    "cdf(k, p, loc=0) -> Cumulative distribution function.\n",
    "\n",
    "logcdf(k, p, loc=0) -> Log of the cumulative distribution function.\n",
    "\n",
    "ppf(q, p, loc=0) -> Percent point function (inverse of cdf — percentiles).\n",
    "\n",
    "isf(q, p, loc=0) -> Inverse survival function (inverse of sf)."
   ],
   "cell_type": "markdown",
   "metadata": {}
  },
  {
   "cell_type": "code",
   "execution_count": 8,
   "metadata": {},
   "outputs": [
    {
     "output_type": "stream",
     "name": "stdout",
     "text": [
      "The CDF of X <= 1 is 0.08704\nThe quantile for 1 is: 1.0\n"
     ]
    }
   ],
   "source": [
    "from scipy.stats import binom\n",
    "n = 5\n",
    "p = 0.6\n",
    "# F(1) = P(X <= 1) = 0.087\n",
    "rv = binom(n, p)\n",
    "print('The CDF of X <= 1 is {}'.format(rv.cdf(1)))\n",
    "print('The quantile for 1 is: {}'.format(rv.ppf(0.08704)))"
   ]
  },
  {
   "cell_type": "code",
   "execution_count": 13,
   "metadata": {},
   "outputs": [
    {
     "output_type": "stream",
     "name": "stdout",
     "text": [
      "The first quantile is: 0.10536051565782631\nThe first quantile is: 2.302585092994046\nThe probability between these quantiles is: 0.8\n"
     ]
    }
   ],
   "source": [
    "from scipy.stats import expon\n",
    "\n",
    "lamb = 1\n",
    "# The middle 80% of probability mass is located betweenthe 0.1 and 0.9 quantiles\n",
    "rv = expon(scale = 1 / lamb)\n",
    "q1 = rv.ppf(0.1)\n",
    "q2 = rv.ppf(0.9)\n",
    "cum_p = rv.cdf([q1, q2])\n",
    "print('The first quantile is: {}'.format(q1))\n",
    "print('The first quantile is: {}'.format(q2))\n",
    "print('The probability between these quantiles is: {}'.format(cum_p[1] - cum_p[0]))"
   ]
  }
 ]
}